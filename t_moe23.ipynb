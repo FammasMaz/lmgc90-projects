{
 "cells": [
  {
   "cell_type": "code",
   "execution_count": 2,
   "metadata": {},
   "outputs": [],
   "source": [
    "from pylmgc90 import pre\n",
    "import numpy as np\n",
    "import math\n",
    "from pathlib import Path"
   ]
  },
  {
   "cell_type": "code",
   "execution_count": 3,
   "metadata": {},
   "outputs": [],
   "source": [
    "dim=2\n",
    "mat = pre.material('TDURx','RIGID',density=1000.)\n",
    "mut = pre.material('MOUxx','RIGID',density=100.)\n",
    "mod = pre.model('rigid','MECAx',element='Rxx2D',dimension=dim)"
   ]
  },
  {
   "cell_type": "code",
   "execution_count": 4,
   "metadata": {},
   "outputs": [],
   "source": [
    "# disk creation\n",
    "radius = 0.2\n",
    "disk = pre.rigidDisk(radius,center=[0.,0.],model=mod,material=mat,color='REDxx')\n",
    "floor = pre.rigidJonc(1.,0.025,[0.,-0.25],model=mod,material=mat,color='BLUEx')\n",
    "\n"
   ]
  },
  {
   "cell_type": "code",
   "execution_count": 5,
   "metadata": {},
   "outputs": [
    {
     "name": "stdout",
     "output_type": "stream",
     "text": [
      "Info : the boundary condition (dof : vlocy, component: [1, 2, 3]) on the nodes of the group\"all\" of the considered avatar is of the form: f(t) = 0\n"
     ]
    }
   ],
   "source": [
    "# boundary condition\n",
    "floor.imposeDrivenDof(component=[1,2,3],dofty='vlocy')\n"
   ]
  },
  {
   "cell_type": "code",
   "execution_count": null,
   "metadata": {},
   "outputs": [],
   "source": []
  },
  {
   "cell_type": "code",
   "execution_count": 6,
   "metadata": {},
   "outputs": [],
   "source": [
    "# creation of a column of disks\n",
    "import copy\n",
    "column = pre.avatars()\n",
    "nb_disks = 10\n",
    "\n",
    "for i in range(nb_disks):\n",
    "    new_disk = copy.deepcopy(disk)\n",
    "    new_disk.translate(dy=i*2*radius)\n",
    "    column.addAvatar(new_disk)\n",
    "    "
   ]
  },
  {
   "cell_type": "code",
   "execution_count": 7,
   "metadata": {},
   "outputs": [],
   "source": [
    "# adding to the bodies thrice\n",
    "nb_columns = 3\n",
    "bodies=pre.avatars()\n",
    "for i in range(nb_columns):\n",
    "    new_column = copy.deepcopy(column)\n",
    "    new_column.translate(dx=(i)*2.*radius)\n",
    "    for body in new_column:\n",
    "        bodies.addAvatar(body)\n",
    "\n",
    "bodies.addAvatar(floor)\n",
    "bodies.rotate()\n"
   ]
  },
  {
   "cell_type": "code",
   "execution_count": 8,
   "metadata": {},
   "outputs": [
    {
     "ename": "KeyboardInterrupt",
     "evalue": "",
     "output_type": "error",
     "traceback": [
      "\u001b[1;31m---------------------------------------------------------------------------\u001b[0m",
      "\u001b[1;31mKeyboardInterrupt\u001b[0m                         Traceback (most recent call last)",
      "\u001b[1;32m~\\AppData\\Local\\Temp\\ipykernel_14220\\1589461599.py\u001b[0m in \u001b[0;36m<module>\u001b[1;34m\u001b[0m\n\u001b[1;32m----> 1\u001b[1;33m \u001b[0mpre\u001b[0m\u001b[1;33m.\u001b[0m\u001b[0mvisuAvatars\u001b[0m\u001b[1;33m(\u001b[0m\u001b[0mbodies\u001b[0m\u001b[1;33m)\u001b[0m\u001b[1;33m\u001b[0m\u001b[1;33m\u001b[0m\u001b[0m\n\u001b[0m",
      "\u001b[1;31mKeyboardInterrupt\u001b[0m: "
     ]
    }
   ],
   "source": [
    "pre.visuAvatars(bodies)"
   ]
  },
  {
   "cell_type": "code",
   "execution_count": 49,
   "metadata": {},
   "outputs": [],
   "source": [
    "t_disk = pre.avatar(dimension=2)\n",
    "t_node = pre.node(coor=np.array([0.,0.1]), number = 1)\n",
    "t_disk.addNode(t_node)\n",
    "t_disk.addBulk(pre.rigid2d())\n",
    "t_disk.defineGroups()\n",
    "t_disk.addContactors(shape='DISKx', color='REDxx', byrd=radius)\n",
    "\n",
    "t_disk.defineModel(model=mod)\n",
    "t_disk.defineMaterial(material=mut)\n",
    "t_disk.computeRigidProperties()\n",
    "\n",
    "disk=t_disk\n",
    "\n"
   ]
  },
  {
   "cell_type": "code",
   "execution_count": null,
   "metadata": {},
   "outputs": [],
   "source": []
  }
 ],
 "metadata": {
  "kernelspec": {
   "display_name": "Python 3",
   "language": "python",
   "name": "python3"
  },
  "language_info": {
   "codemirror_mode": {
    "name": "ipython",
    "version": 3
   },
   "file_extension": ".py",
   "mimetype": "text/x-python",
   "name": "python",
   "nbconvert_exporter": "python",
   "pygments_lexer": "ipython3",
   "version": "3.7.16"
  }
 },
 "nbformat": 4,
 "nbformat_minor": 2
}
