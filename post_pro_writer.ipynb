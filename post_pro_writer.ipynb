{
 "cells": [
  {
   "cell_type": "code",
   "execution_count": 1,
   "metadata": {},
   "outputs": [],
   "source": [
    "import numpy as np\n",
    "import torch\n",
    "import argparse\n",
    "from pathlib import Path\n",
    "import pickle"
   ]
  },
  {
   "cell_type": "code",
   "execution_count": 2,
   "metadata": {},
   "outputs": [],
   "source": [
    "par_dir = Path('/Users/fammasmaz/Downloads/sncf_random_test_201/')"
   ]
  },
  {
   "cell_type": "code",
   "execution_count": 3,
   "metadata": {},
   "outputs": [],
   "source": [
    "# import the pickle file\n",
    "with open(par_dir/'postpro.pkl', 'rb') as f:\n",
    "    postpro = pickle.load(f)"
   ]
  },
  {
   "cell_type": "code",
   "execution_count": 4,
   "metadata": {},
   "outputs": [],
   "source": [
    "stacked = postpro[3]"
   ]
  },
  {
   "cell_type": "code",
   "execution_count": 5,
   "metadata": {},
   "outputs": [
    {
     "data": {
      "text/plain": [
       "(66106, 26)"
      ]
     },
     "execution_count": 5,
     "metadata": {},
     "output_type": "execute_result"
    }
   ],
   "source": [
    "stacked.shape"
   ]
  },
  {
   "cell_type": "code",
   "execution_count": 6,
   "metadata": {},
   "outputs": [],
   "source": [
    "# information on what is what\n",
    "# 0: contact id\n",
    "# 1: contact candidate\n",
    "# 2: contact antagoniste\n",
    "# 3-5: rl\n",
    "# 6-8: vl\n",
    "# 9: gapTT\n",
    "# 10-12: coordinates\n",
    "# 13-15: local frame n\n",
    "# 16-18: local frame t\n",
    "# 19-21: local frame s\n",
    "# 22: contact type\n",
    "# 23-25: intercenter vectors\n"
   ]
  },
  {
   "cell_type": "code",
   "execution_count": 7,
   "metadata": {},
   "outputs": [
    {
     "data": {
      "text/plain": [
       "array([ 2.00000000e+00,  3.24000000e+02,  5.83000000e+02,  0.00000000e+00,\n",
       "        0.00000000e+00,  0.00000000e+00, -2.49967720e-03,  1.20314920e-02,\n",
       "       -1.43559947e-02,  6.55085339e-05, -5.91363856e-01, -9.76515191e-01,\n",
       "        5.63191351e-02,  1.00000000e+00, -0.00000000e+00,  1.77351632e-01,\n",
       "       -9.84147549e-01,  4.67504311e-01,  8.69977371e-01,  1.56777209e-01,\n",
       "        8.83990792e-01, -4.60093222e-01, -8.29126523e-02, -5.91363856e-01,\n",
       "       -9.76515191e-01,  5.63191351e-02])"
      ]
     },
     "execution_count": 7,
     "metadata": {},
     "output_type": "execute_result"
    }
   ],
   "source": [
    "stacked[1]\n"
   ]
  },
  {
   "cell_type": "code",
   "execution_count": 1,
   "metadata": {},
   "outputs": [],
   "source": [
    "from utilities.postpro_utilities import mass_writer, coordinates_writer, dof_writer, arvd_writer, read_pickled_file\n"
   ]
  },
  {
   "cell_type": "code",
   "execution_count": 2,
   "metadata": {},
   "outputs": [],
   "source": [
    "out_dir = '/Users/fammasmaz/Downloads/sncf_random_test_201/'"
   ]
  },
  {
   "cell_type": "code",
   "execution_count": 3,
   "metadata": {},
   "outputs": [
    {
     "ename": "ValueError",
     "evalue": "cannot reshape array of size 164064 into shape (10)",
     "output_type": "error",
     "traceback": [
      "\u001b[0;31m---------------------------------------------------------------------------\u001b[0m",
      "\u001b[0;31mValueError\u001b[0m                                Traceback (most recent call last)",
      "Cell \u001b[0;32mIn[3], line 2\u001b[0m\n\u001b[1;32m      1\u001b[0m bodies \u001b[38;5;241m=\u001b[39m coordinates_writer(out_dir)\n\u001b[0;32m----> 2\u001b[0m dof \u001b[38;5;241m=\u001b[39m \u001b[43mdof_writer\u001b[49m\u001b[43m(\u001b[49m\u001b[43mout_dir\u001b[49m\u001b[43m)\u001b[49m\n\u001b[1;32m      3\u001b[0m arvd \u001b[38;5;241m=\u001b[39m arvd_writer(out_dir)\n\u001b[1;32m      4\u001b[0m mass \u001b[38;5;241m=\u001b[39m mass_writer(out_dir)\n",
      "File \u001b[0;32m~/Downloads/lmgc90_docker/lmgc90_user_2023.rc2/examples/moeeze/utilities/postpro_utilities.py:167\u001b[0m, in \u001b[0;36mdof_writer\u001b[0;34m(par_dir, fname)\u001b[0m\n\u001b[1;32m    165\u001b[0m         file\u001b[38;5;241m.\u001b[39mwrite(\u001b[38;5;124m'\u001b[39m\u001b[38;5;130;01m\\n\u001b[39;00m\u001b[38;5;124m'\u001b[39m)\n\u001b[1;32m    166\u001b[0m         dof \u001b[38;5;241m=\u001b[39m np\u001b[38;5;241m.\u001b[39mappend(dof, numbers_out)\n\u001b[0;32m--> 167\u001b[0m dof \u001b[38;5;241m=\u001b[39m \u001b[43mdof\u001b[49m\u001b[38;5;241;43m.\u001b[39;49m\u001b[43mreshape\u001b[49m\u001b[43m(\u001b[49m\u001b[38;5;241;43m-\u001b[39;49m\u001b[38;5;241;43m1\u001b[39;49m\u001b[43m,\u001b[49m\u001b[38;5;241;43m10\u001b[39;49m\u001b[43m)\u001b[49m\n\u001b[1;32m    168\u001b[0m \u001b[38;5;28;01mwith\u001b[39;00m \u001b[38;5;28mopen\u001b[39m(par_dir \u001b[38;5;241m+\u001b[39m \u001b[38;5;124m'\u001b[39m\u001b[38;5;124mOUTBOX/DOF.pkl\u001b[39m\u001b[38;5;124m'\u001b[39m, \u001b[38;5;124m'\u001b[39m\u001b[38;5;124mwb\u001b[39m\u001b[38;5;124m'\u001b[39m) \u001b[38;5;28;01mas\u001b[39;00m file:\n\u001b[1;32m    169\u001b[0m     pickle\u001b[38;5;241m.\u001b[39mdump(dof, file)\n",
      "\u001b[0;31mValueError\u001b[0m: cannot reshape array of size 164064 into shape (10)"
     ]
    }
   ],
   "source": [
    "bodies = coordinates_writer(out_dir)\n",
    "dof = dof_writer(out_dir)\n",
    "arvd = arvd_writer(out_dir)\n",
    "mass = mass_writer(out_dir)"
   ]
  },
  {
   "cell_type": "code",
   "execution_count": null,
   "metadata": {},
   "outputs": [],
   "source": [
    "dof = read_pickled_file(out_dir, 'dof.pkl')\n",
    "coord = read_pickled_file(out_dir, 'coordinates.pkl')\n",
    "arvd = read_pickled_file(out_dir, 'arvd.pkl')\n",
    "mass = read_pickled_file(out_dir, 'mass.pkl')\n"
   ]
  },
  {
   "cell_type": "code",
   "execution_count": null,
   "metadata": {},
   "outputs": [
    {
     "data": {
      "text/plain": [
       "((10254, 10), (10254, 3), (10254, 2), (10253, 1))"
      ]
     },
     "execution_count": 8,
     "metadata": {},
     "output_type": "execute_result"
    }
   ],
   "source": [
    "dof.shape, coord.shape, arvd.shape, mass.shape"
   ]
  },
  {
   "cell_type": "code",
   "execution_count": null,
   "metadata": {},
   "outputs": [
    {
     "data": {
      "text/plain": [
       "array([['1.000000e+00', '0.000000e+00', '0.000000e+00', ...,\n",
       "        '0.000000e+00', '0.000000e+00', '0.000000e+00'],\n",
       "       ['2.000000e+00', '2.719124e-02', '4.875036e-02', ...,\n",
       "        '1.482859e-04', '-3.512882e-05', '3.019887e-03'],\n",
       "       ['3.000000e+00', '2.665231e-02', '2.120281e-01', ...,\n",
       "        '8.138976e-03', '2.238133e-03', '-4.967885e-03'],\n",
       "       ...,\n",
       "       ['1.025200e+04', '-3.503255e-03', '4.907533e-03', ...,\n",
       "        '1.039922e-05', '-2.830651e-05', '3.088422e-05'],\n",
       "       ['1.025300e+04', '-6.467959e-03', '-4.327955e-02', ...,\n",
       "        '-1.106675e-05', '-3.381411e-05', '-7.738222e-06'],\n",
       "       ['1.025400e+04', '-2.135540e-02', '7.760525e-03', ...,\n",
       "        '3.629142e-05', '-7.868708e-05', '-3.986986e-06']], dtype='<U32')"
      ]
     },
     "execution_count": 9,
     "metadata": {},
     "output_type": "execute_result"
    }
   ],
   "source": [
    "dof"
   ]
  },
  {
   "cell_type": "code",
   "execution_count": null,
   "metadata": {},
   "outputs": [
    {
     "data": {
      "text/plain": [
       "array(['2.000000e+00', '2.719124e-02', '4.875036e-02', '-4.244340e+00',\n",
       "       '5.012035e-05', '-1.497262e-05', '-4.645571e-05', '1.482859e-04',\n",
       "       '-3.512882e-05', '3.019887e-03'], dtype='<U32')"
      ]
     },
     "execution_count": 11,
     "metadata": {},
     "output_type": "execute_result"
    }
   ],
   "source": [
    "dof[1]"
   ]
  },
  {
   "cell_type": "code",
   "execution_count": null,
   "metadata": {},
   "outputs": [],
   "source": []
  },
  {
   "cell_type": "code",
   "execution_count": 29,
   "metadata": {},
   "outputs": [
    {
     "ename": "IndexError",
     "evalue": "too many indices for array: array is 1-dimensional, but 2 were indexed",
     "output_type": "error",
     "traceback": [
      "\u001b[0;31m---------------------------------------------------------------------------\u001b[0m",
      "\u001b[0;31mIndexError\u001b[0m                                Traceback (most recent call last)",
      "Cell \u001b[0;32mIn[29], line 67\u001b[0m\n\u001b[1;32m     65\u001b[0m edge_index, edge_features \u001b[38;5;241m=\u001b[39m edge_index_creator(out_dir)\n\u001b[1;32m     66\u001b[0m n \u001b[38;5;241m=\u001b[39m hot_vector_plate_conection(out_dir, n_nodes)\n\u001b[0;32m---> 67\u001b[0m f \u001b[38;5;241m=\u001b[39m \u001b[43mgravitational_force_creator\u001b[49m\u001b[43m(\u001b[49m\u001b[43mx\u001b[49m\u001b[43m[\u001b[49m\u001b[43m:\u001b[49m\u001b[43m,\u001b[49m\u001b[43m \u001b[49m\u001b[38;5;241;43m-\u001b[39;49m\u001b[38;5;241;43m1\u001b[39;49m\u001b[43m]\u001b[49m\u001b[43m)\u001b[49m\n\u001b[1;32m     68\u001b[0m y \u001b[38;5;241m=\u001b[39m x\u001b[38;5;241m.\u001b[39mcopy()\n",
      "Cell \u001b[0;32mIn[29], line 57\u001b[0m, in \u001b[0;36mgravitational_force_creator\u001b[0;34m(m, g)\u001b[0m\n\u001b[1;32m     55\u001b[0m f \u001b[38;5;241m=\u001b[39m np\u001b[38;5;241m.\u001b[39mzeros((m\u001b[38;5;241m.\u001b[39mshape[\u001b[38;5;241m0\u001b[39m], \u001b[38;5;241m3\u001b[39m))\n\u001b[1;32m     56\u001b[0m \u001b[38;5;66;03m# first one is rigid plate\u001b[39;00m\n\u001b[0;32m---> 57\u001b[0m f[\u001b[38;5;241m1\u001b[39m:, \u001b[38;5;241m2\u001b[39m] \u001b[38;5;241m=\u001b[39m \u001b[38;5;241m-\u001b[39m\u001b[43mm\u001b[49m\u001b[43m[\u001b[49m\u001b[38;5;241;43m1\u001b[39;49m\u001b[43m:\u001b[49m\u001b[43m,\u001b[49m\u001b[43m \u001b[49m\u001b[38;5;241;43m0\u001b[39;49m\u001b[43m]\u001b[49m\u001b[38;5;241m*\u001b[39mg\n\u001b[1;32m     58\u001b[0m \u001b[38;5;28;01mreturn\u001b[39;00m f\n",
      "\u001b[0;31mIndexError\u001b[0m: too many indices for array: array is 1-dimensional, but 2 were indexed"
     ]
    }
   ],
   "source": [
    "# writing the postpro script\n",
    "import numpy as np\n",
    "from utilities.postpro_utilities import mass_writer, coordinates_writer, dof_writer, arvd_writer, read_pickled_file, plate_connection\n",
    "\n",
    "def node_creator(out_dir):\n",
    "    # dof x(3), v(3), a (6)\n",
    "    # coord x, y, z\n",
    "    # arvd 1\n",
    "    # mass 1\n",
    "\n",
    "    coordinates_writer(out_dir)\n",
    "    dof_writer(out_dir)\n",
    "    arvd_writer(out_dir)\n",
    "    mass_writer(out_dir)\n",
    "    dof = read_pickled_file(out_dir, 'dof.pkl')\n",
    "    coord = read_pickled_file(out_dir, 'coordinates.pkl')\n",
    "    arvd = read_pickled_file(out_dir, 'arvd.pkl')\n",
    "    mass = read_pickled_file(out_dir, 'mass.pkl')\n",
    "    x = np.hstack((dof, coord, arvd, mass))\n",
    "    x = x.astype(np.float32)\n",
    "    return x\n",
    "\n",
    "def edge_index_creator(out_dir):\n",
    "  # information on what is what\n",
    "  # 0: contact id\n",
    "  # 1: contact candidate\n",
    "  # 2: contact antagoniste\n",
    "  # 3-5: rl\n",
    "  # 6-8: vl\n",
    "  # 9: gapTT\n",
    "  # 10-12: coordinates\n",
    "  # 13-15: local frame n\n",
    "  # 16-18: local frame t\n",
    "  # 19-21: local frame s\n",
    "  # 22: contact type\n",
    "  # 23-25: intercenter vectors\n",
    "  postpro = read_pickled_file(out_dir, 'postpro.pkl', False)\n",
    "  edge_features = postpro[3]\n",
    "  edge_index = np.array(edge_features[:,1:3]).T\n",
    "  edge_features = edge_features[:,3:]\n",
    "\n",
    "  return edge_index.astype(np.float32), edge_features.astype(np.float32)\n",
    "\n",
    "def hot_vector_plate_conection(out_dir, n_nodes):\n",
    "   plated = plate_connection(out_dir)\n",
    "   x = np.zeros((n_nodes, 1))\n",
    "   x[plated-1] = 1\n",
    "   x[0] = 1\n",
    "   return x.astype(np.float32)\n",
    "\n",
    "\n",
    "def gravitational_force_creator(m, g=9.8):\n",
    "    f = np.zeros((m.shape[0], 3))\n",
    "    # first one is rigid plate\n",
    "    f[1:, 2] = -m[1:, 0]*g\n",
    "    return f\n",
    "\n",
    "x = node_creator(out_dir)\n",
    "n_nodes = x.shape[0]\n",
    "edge_index, edge_features = edge_index_creator(out_dir)\n",
    "n = hot_vector_plate_conection(out_dir, n_nodes)\n",
    "f = gravitational_force_creator(x[:, -1].reshape(-1, 1))\n",
    "y = x.copy()\n"
   ]
  },
  {
   "cell_type": "code",
   "execution_count": 4,
   "metadata": {},
   "outputs": [
    {
     "data": {
      "text/plain": [
       "((10254, 22), (2, 66106), (66106, 23), (6327, 1))"
      ]
     },
     "execution_count": 4,
     "metadata": {},
     "output_type": "execute_result"
    }
   ],
   "source": [
    "x.shape, edge_index.shape, edge_features.shape, n.shape"
   ]
  },
  {
   "cell_type": "code",
   "execution_count": 39,
   "metadata": {},
   "outputs": [],
   "source": [
    "# find the names of the files that start with 'sncf'\n",
    "from pathlib import Path\n",
    "\n",
    "par_dir = Path('/Users/fammasmaz/Downloads/')\n",
    "stem = 'sncf_random_test_2'\n",
    "files = [f for f in par_dir.iterdir() if f.stem.startswith(stem)]"
   ]
  },
  {
   "cell_type": "code",
   "execution_count": 40,
   "metadata": {},
   "outputs": [
    {
     "data": {
      "text/plain": [
       "[PosixPath('/Users/fammasmaz/Downloads/sncf_random_test_201'),\n",
       " PosixPath('/Users/fammasmaz/Downloads/sncf_random_test_2')]"
      ]
     },
     "execution_count": 40,
     "metadata": {},
     "output_type": "execute_result"
    }
   ],
   "source": [
    "files"
   ]
  },
  {
   "cell_type": "code",
   "execution_count": null,
   "metadata": {},
   "outputs": [],
   "source": []
  }
 ],
 "metadata": {
  "kernelspec": {
   "display_name": "granutann",
   "language": "python",
   "name": "python3"
  },
  "language_info": {
   "codemirror_mode": {
    "name": "ipython",
    "version": 3
   },
   "file_extension": ".py",
   "mimetype": "text/x-python",
   "name": "python",
   "nbconvert_exporter": "python",
   "pygments_lexer": "ipython3",
   "version": "3.10.13"
  }
 },
 "nbformat": 4,
 "nbformat_minor": 2
}
