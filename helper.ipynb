{
 "cells": [
  {
   "cell_type": "code",
   "execution_count": 1,
   "metadata": {},
   "outputs": [],
   "source": [
    "from pylmgc90 import pre\n",
    "from pylmgc90 import chipy"
   ]
  },
  {
   "cell_type": "code",
   "execution_count": 2,
   "metadata": {},
   "outputs": [
    {
     "name": "stdout",
     "output_type": "stream",
     "text": [
      "Help on function getInteractions in module pylmgc90.chipy.macro:\n",
      "\n",
      "getInteractions(this=False, human=True)\n",
      "    Get all interactions as a numpy array with predefined dtype.\n",
      "    \n",
      "    Must be called after: 'Intialize', 'SetDimension' and 'ReadBehaviours'\n",
      "    \n",
      "    By default, get verlet interactions, to get 'this' interaction, change\n",
      "    the eponym parameter to True.\n",
      "    \n",
      "    By default, remap parameters id to name and contact law id to its\n",
      "    corresponding name. To keep integer values change 'human' argument\n",
      "    to False.\n",
      "\n"
     ]
    }
   ],
   "source": [
    "help(chipy.getInteractions)"
   ]
  },
  {
   "cell_type": "code",
   "execution_count": null,
   "metadata": {},
   "outputs": [],
   "source": []
  }
 ],
 "metadata": {
  "kernelspec": {
   "display_name": "Python 3",
   "language": "python",
   "name": "python3"
  },
  "language_info": {
   "codemirror_mode": {
    "name": "ipython",
    "version": 3
   },
   "file_extension": ".py",
   "mimetype": "text/x-python",
   "name": "python",
   "nbconvert_exporter": "python",
   "pygments_lexer": "ipython3",
   "version": "3.7.12"
  }
 },
 "nbformat": 4,
 "nbformat_minor": 2
}
